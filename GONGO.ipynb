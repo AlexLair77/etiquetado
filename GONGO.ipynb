{
 "cells": [
  {
   "cell_type": "code",
   "execution_count": 108,
   "id": "738011dd",
   "metadata": {},
   "outputs": [],
   "source": [
    "import pandas as pd\n",
    "from sklearn.neighbors import KNeighborsClassifier"
   ]
  },
  {
   "cell_type": "code",
   "execution_count": 125,
   "id": "ddb740a7",
   "metadata": {},
   "outputs": [],
   "source": [
    "# Leer la tabla de Excel\n",
    "df = pd.read_excel(r\"C:\\Users\\lenovodna\\Desktop\\1.1.1.2.02.02 0118066795 Participaciones 2022.xlsx\", sheet_name='6795B')"
   ]
  },
  {
   "cell_type": "code",
   "execution_count": 126,
   "id": "37e9277c",
   "metadata": {},
   "outputs": [
    {
     "name": "stdout",
     "output_type": "stream",
     "text": [
      "                                          Descripción              ETIQUETA\n",
      "0   COMISIONES BANCARIAS POR CHEQUES PAGADOS SEGÚN...                   COM\n",
      "1   TRANSF. 366281 PAGO 3% A LA NOMINA CORRESP. AL...             CANCELADO\n",
      "2   TRANSF. 366281 PAGO 3% A LA NOMINA CORRESP. AL...             CANCELADO\n",
      "3   TRANSF. 366281 PAGO 3% A LA NOMINA CORRESP. AL...               3 % NOM\n",
      "4   TRANSF. 379407 ENTERO ISR RETENCIONES SERVS PR...            ENTERO ISR\n",
      "5        TRANSF. 379496 ENTERO ISR SALARIOS DICIEMBRE            ENTERO ISR\n",
      "6   TRASPASO ENTRE CUENTAS PROPIAS, DE LA CTA. 679...             CANCELADO\n",
      "7          CH-143 ANTICIPO A CUENTA DE SUELDOS (1501)             ANTIC NOM\n",
      "8   TRANSF. 796476 GASTOS A COMPROBAR DEPTO. DE PR...                   GXC\n",
      "9   TRASPASO ENTRE CUENTAS PROPIAS, DE LA CTA. 679...             CANCELADO\n",
      "10  TRASPASO ENTRE CUENTAS PROPIAS, DE LA CTA. 682...      T6825 A LA T6795\n",
      "11  CH-146,168,169 NOMINA DE LA PRIMERA QNA DE ENE...                   NOM\n",
      "12  CH-145 PAGO DE NOMINA SEGURIDAD PUBLICA Y PROT...                   NOM\n",
      "13  CH-150 PAGO DE FINIQUITO PERSONAL DE SEG. PUB ...             FINIQUITO\n",
      "14  TRANSF. 575036 F/850B6 ADQ. DE DULCES PARA EVE...      EVENTOS / FESTIV\n",
      "15  TRANSF. 364042 F/6F5EC MANTENIMIENTO DE VEHICU...                MTTO V\n",
      "16  TRANSF. 233092 F/5A9D2 RENTA DE JUEGOS PARA EV...      EVENTOS / FESTIV\n",
      "17  TRANSF. 229319 F/bb25d1 ADQ. RADIADOR PARA VEH...                MTTO V\n",
      "18  TRANSF. 812034 F/D8D59 PAGO DE SEGURO DE VEHIC...              SEGURO V\n",
      "19  TRANSF. 002382 F/96116 ADQ. DE ADAPTADORES , C...                MTTO G\n",
      "20  TRANSF. 627025 PAGO DE SERVICIOS DE ENERGÍA EL...          ENERGIA ELEC\n",
      "21  TRANSF. 337781, 230019 F/98EEE7 ADQUISICIÓN DE...      EVENTOS / FESTIV\n",
      "22  TRANSF. 337781, 230019 F/98EEE7 ADQUISICIÓN DE...      EVENTOS / FESTIV\n",
      "23             CH-141 GASTOS A COMPROBAR (1501020101)                   GXC\n",
      "24  CH-142 F/CE7A0 ADQUISICIÓN DE LOTE DE JUGUETES...      EVENTOS / FESTIV\n",
      "25  CH-147 VIATICOS A LA CD. DE XALAPA, REGISTRO C...              VIATICOS\n",
      "26  CH-149 VIÁTICOS A LA CD. DE XALAPA, PARA ADQ. ...              VIATICOS\n",
      "27  TRANSF. 390043 F/086CC PAGO DE SERVICIO FUNERA...                APOYOS\n",
      "28  INGRESO POR CUARTO TRIMESTRE DEL EJERCICIO 202...  FONDO ESTABILIZACION\n"
     ]
    }
   ],
   "source": [
    "# Especifica el nombre del archivo de Excel y la hoja que deseas leer\n",
    "archivo_excel = r\"C:\\Users\\lenovodna\\Desktop\\1.1.1.2.02.02 0118066795 Participaciones 2022.xlsx\"\n",
    "nombre_hoja = '6795B'\n",
    "# Lee la hoja especificada del archivo de Excel\n",
    "df = pd.read_excel(archivo_excel, sheet_name=nombre_hoja)\n",
    "\n",
    "# Muestra el contenido del DataFrame\n",
    "print(df)"
   ]
  },
  {
   "cell_type": "code",
   "execution_count": 127,
   "id": "9c37ebca",
   "metadata": {},
   "outputs": [
    {
     "name": "stdout",
     "output_type": "stream",
     "text": [
      "Index(['Descripción', 'ETIQUETA'], dtype='object')\n"
     ]
    }
   ],
   "source": [
    "columnas = df.columns \n",
    "print (columnas)"
   ]
  },
  {
   "cell_type": "code",
   "execution_count": 128,
   "id": "3ebbd5f1",
   "metadata": {},
   "outputs": [],
   "source": [
    "# Separar las características y las etiquetas\n",
    "X = df.drop('ETIQUETA', axis=1)\n",
    "y = df['ETIQUETA']"
   ]
  },
  {
   "cell_type": "code",
   "execution_count": 129,
   "id": "a4f6574e",
   "metadata": {},
   "outputs": [],
   "source": [
    "from sklearn.feature_extraction.text import CountVectorizer"
   ]
  },
  {
   "cell_type": "code",
   "execution_count": 130,
   "id": "9d6c07df",
   "metadata": {},
   "outputs": [],
   "source": [
    "# Asumiendo que tienes un objeto DataFrame llamado df\n",
    "# y que la columna con las descripciones se llama 'Descripción'\n",
    "\n",
    "# Crea un objeto CountVectorizer para convertir las descripciones en vectores numéricos\n",
    "vectorizer = CountVectorizer()"
   ]
  },
  {
   "cell_type": "code",
   "execution_count": 131,
   "id": "88898256",
   "metadata": {},
   "outputs": [
    {
     "data": {
      "text/html": [
       "<style>#sk-container-id-3 {color: black;background-color: white;}#sk-container-id-3 pre{padding: 0;}#sk-container-id-3 div.sk-toggleable {background-color: white;}#sk-container-id-3 label.sk-toggleable__label {cursor: pointer;display: block;width: 100%;margin-bottom: 0;padding: 0.3em;box-sizing: border-box;text-align: center;}#sk-container-id-3 label.sk-toggleable__label-arrow:before {content: \"▸\";float: left;margin-right: 0.25em;color: #696969;}#sk-container-id-3 label.sk-toggleable__label-arrow:hover:before {color: black;}#sk-container-id-3 div.sk-estimator:hover label.sk-toggleable__label-arrow:before {color: black;}#sk-container-id-3 div.sk-toggleable__content {max-height: 0;max-width: 0;overflow: hidden;text-align: left;background-color: #f0f8ff;}#sk-container-id-3 div.sk-toggleable__content pre {margin: 0.2em;color: black;border-radius: 0.25em;background-color: #f0f8ff;}#sk-container-id-3 input.sk-toggleable__control:checked~div.sk-toggleable__content {max-height: 200px;max-width: 100%;overflow: auto;}#sk-container-id-3 input.sk-toggleable__control:checked~label.sk-toggleable__label-arrow:before {content: \"▾\";}#sk-container-id-3 div.sk-estimator input.sk-toggleable__control:checked~label.sk-toggleable__label {background-color: #d4ebff;}#sk-container-id-3 div.sk-label input.sk-toggleable__control:checked~label.sk-toggleable__label {background-color: #d4ebff;}#sk-container-id-3 input.sk-hidden--visually {border: 0;clip: rect(1px 1px 1px 1px);clip: rect(1px, 1px, 1px, 1px);height: 1px;margin: -1px;overflow: hidden;padding: 0;position: absolute;width: 1px;}#sk-container-id-3 div.sk-estimator {font-family: monospace;background-color: #f0f8ff;border: 1px dotted black;border-radius: 0.25em;box-sizing: border-box;margin-bottom: 0.5em;}#sk-container-id-3 div.sk-estimator:hover {background-color: #d4ebff;}#sk-container-id-3 div.sk-parallel-item::after {content: \"\";width: 100%;border-bottom: 1px solid gray;flex-grow: 1;}#sk-container-id-3 div.sk-label:hover label.sk-toggleable__label {background-color: #d4ebff;}#sk-container-id-3 div.sk-serial::before {content: \"\";position: absolute;border-left: 1px solid gray;box-sizing: border-box;top: 0;bottom: 0;left: 50%;z-index: 0;}#sk-container-id-3 div.sk-serial {display: flex;flex-direction: column;align-items: center;background-color: white;padding-right: 0.2em;padding-left: 0.2em;position: relative;}#sk-container-id-3 div.sk-item {position: relative;z-index: 1;}#sk-container-id-3 div.sk-parallel {display: flex;align-items: stretch;justify-content: center;background-color: white;position: relative;}#sk-container-id-3 div.sk-item::before, #sk-container-id-3 div.sk-parallel-item::before {content: \"\";position: absolute;border-left: 1px solid gray;box-sizing: border-box;top: 0;bottom: 0;left: 50%;z-index: -1;}#sk-container-id-3 div.sk-parallel-item {display: flex;flex-direction: column;z-index: 1;position: relative;background-color: white;}#sk-container-id-3 div.sk-parallel-item:first-child::after {align-self: flex-end;width: 50%;}#sk-container-id-3 div.sk-parallel-item:last-child::after {align-self: flex-start;width: 50%;}#sk-container-id-3 div.sk-parallel-item:only-child::after {width: 0;}#sk-container-id-3 div.sk-dashed-wrapped {border: 1px dashed gray;margin: 0 0.4em 0.5em 0.4em;box-sizing: border-box;padding-bottom: 0.4em;background-color: white;}#sk-container-id-3 div.sk-label label {font-family: monospace;font-weight: bold;display: inline-block;line-height: 1.2em;}#sk-container-id-3 div.sk-label-container {text-align: center;}#sk-container-id-3 div.sk-container {/* jupyter's `normalize.less` sets `[hidden] { display: none; }` but bootstrap.min.css set `[hidden] { display: none !important; }` so we also need the `!important` here to be able to override the default hidden behavior on the sphinx rendered scikit-learn.org. See: https://github.com/scikit-learn/scikit-learn/issues/21755 */display: inline-block !important;position: relative;}#sk-container-id-3 div.sk-text-repr-fallback {display: none;}</style><div id=\"sk-container-id-3\" class=\"sk-top-container\"><div class=\"sk-text-repr-fallback\"><pre>CountVectorizer()</pre><b>In a Jupyter environment, please rerun this cell to show the HTML representation or trust the notebook. <br />On GitHub, the HTML representation is unable to render, please try loading this page with nbviewer.org.</b></div><div class=\"sk-container\" hidden><div class=\"sk-item\"><div class=\"sk-estimator sk-toggleable\"><input class=\"sk-toggleable__control sk-hidden--visually\" id=\"sk-estimator-id-3\" type=\"checkbox\" checked><label for=\"sk-estimator-id-3\" class=\"sk-toggleable__label sk-toggleable__label-arrow\">CountVectorizer</label><div class=\"sk-toggleable__content\"><pre>CountVectorizer()</pre></div></div></div></div></div>"
      ],
      "text/plain": [
       "CountVectorizer()"
      ]
     },
     "execution_count": 131,
     "metadata": {},
     "output_type": "execute_result"
    }
   ],
   "source": [
    "# Ajusta el vectorizador con las descripciones del conjunto de datos\n",
    "vectorizer.fit(df['Descripción'])"
   ]
  },
  {
   "cell_type": "code",
   "execution_count": 132,
   "id": "b47d9aa3",
   "metadata": {},
   "outputs": [],
   "source": [
    "# Transforma las descripciones en vectores numéricos\n",
    "X_descripciones = vectorizer.transform(df['Descripción'])\n"
   ]
  },
  {
   "cell_type": "code",
   "execution_count": 133,
   "id": "f477846d",
   "metadata": {},
   "outputs": [
    {
     "name": "stderr",
     "output_type": "stream",
     "text": [
      "C:\\Users\\lenovodna\\miniconda3 nuevo\\lib\\site-packages\\sklearn\\utils\\deprecation.py:87: FutureWarning: Function get_feature_names is deprecated; get_feature_names is deprecated in 1.0 and will be removed in 1.2. Please use get_feature_names_out instead.\n",
      "  warnings.warn(msg, category=FutureWarning)\n"
     ]
    }
   ],
   "source": [
    "# Convierte los vectores numéricos en un DataFrame\n",
    "df_descripciones = pd.DataFrame(X_descripciones.toarray(), columns=vectorizer.get_feature_names())"
   ]
  },
  {
   "cell_type": "code",
   "execution_count": 134,
   "id": "f987dcf0",
   "metadata": {},
   "outputs": [],
   "source": [
    "# Agrega el DataFrame de descripciones al conjunto de datos original\n",
    "df_final = pd.concat([df, df_descripciones], axis=1)"
   ]
  },
  {
   "cell_type": "code",
   "execution_count": 135,
   "id": "cb8886e7",
   "metadata": {},
   "outputs": [],
   "source": [
    "# Elimina la columna original con las descripciones\n",
    "df_final = df_final.drop('Descripción', axis=1)"
   ]
  },
  {
   "cell_type": "code",
   "execution_count": 136,
   "id": "ca141bb0",
   "metadata": {},
   "outputs": [],
   "source": [
    "from sklearn.neighbors import KNeighborsClassifier"
   ]
  },
  {
   "cell_type": "code",
   "execution_count": 137,
   "id": "4d81769e",
   "metadata": {},
   "outputs": [],
   "source": [
    "# Separar las características y las etiquetas\n",
    "X = df_final.drop('ETIQUETA', axis=1)\n",
    "y = df_final['ETIQUETA']"
   ]
  },
  {
   "cell_type": "code",
   "execution_count": 138,
   "id": "f1af3164",
   "metadata": {},
   "outputs": [
    {
     "data": {
      "text/html": [
       "<style>#sk-container-id-4 {color: black;background-color: white;}#sk-container-id-4 pre{padding: 0;}#sk-container-id-4 div.sk-toggleable {background-color: white;}#sk-container-id-4 label.sk-toggleable__label {cursor: pointer;display: block;width: 100%;margin-bottom: 0;padding: 0.3em;box-sizing: border-box;text-align: center;}#sk-container-id-4 label.sk-toggleable__label-arrow:before {content: \"▸\";float: left;margin-right: 0.25em;color: #696969;}#sk-container-id-4 label.sk-toggleable__label-arrow:hover:before {color: black;}#sk-container-id-4 div.sk-estimator:hover label.sk-toggleable__label-arrow:before {color: black;}#sk-container-id-4 div.sk-toggleable__content {max-height: 0;max-width: 0;overflow: hidden;text-align: left;background-color: #f0f8ff;}#sk-container-id-4 div.sk-toggleable__content pre {margin: 0.2em;color: black;border-radius: 0.25em;background-color: #f0f8ff;}#sk-container-id-4 input.sk-toggleable__control:checked~div.sk-toggleable__content {max-height: 200px;max-width: 100%;overflow: auto;}#sk-container-id-4 input.sk-toggleable__control:checked~label.sk-toggleable__label-arrow:before {content: \"▾\";}#sk-container-id-4 div.sk-estimator input.sk-toggleable__control:checked~label.sk-toggleable__label {background-color: #d4ebff;}#sk-container-id-4 div.sk-label input.sk-toggleable__control:checked~label.sk-toggleable__label {background-color: #d4ebff;}#sk-container-id-4 input.sk-hidden--visually {border: 0;clip: rect(1px 1px 1px 1px);clip: rect(1px, 1px, 1px, 1px);height: 1px;margin: -1px;overflow: hidden;padding: 0;position: absolute;width: 1px;}#sk-container-id-4 div.sk-estimator {font-family: monospace;background-color: #f0f8ff;border: 1px dotted black;border-radius: 0.25em;box-sizing: border-box;margin-bottom: 0.5em;}#sk-container-id-4 div.sk-estimator:hover {background-color: #d4ebff;}#sk-container-id-4 div.sk-parallel-item::after {content: \"\";width: 100%;border-bottom: 1px solid gray;flex-grow: 1;}#sk-container-id-4 div.sk-label:hover label.sk-toggleable__label {background-color: #d4ebff;}#sk-container-id-4 div.sk-serial::before {content: \"\";position: absolute;border-left: 1px solid gray;box-sizing: border-box;top: 0;bottom: 0;left: 50%;z-index: 0;}#sk-container-id-4 div.sk-serial {display: flex;flex-direction: column;align-items: center;background-color: white;padding-right: 0.2em;padding-left: 0.2em;position: relative;}#sk-container-id-4 div.sk-item {position: relative;z-index: 1;}#sk-container-id-4 div.sk-parallel {display: flex;align-items: stretch;justify-content: center;background-color: white;position: relative;}#sk-container-id-4 div.sk-item::before, #sk-container-id-4 div.sk-parallel-item::before {content: \"\";position: absolute;border-left: 1px solid gray;box-sizing: border-box;top: 0;bottom: 0;left: 50%;z-index: -1;}#sk-container-id-4 div.sk-parallel-item {display: flex;flex-direction: column;z-index: 1;position: relative;background-color: white;}#sk-container-id-4 div.sk-parallel-item:first-child::after {align-self: flex-end;width: 50%;}#sk-container-id-4 div.sk-parallel-item:last-child::after {align-self: flex-start;width: 50%;}#sk-container-id-4 div.sk-parallel-item:only-child::after {width: 0;}#sk-container-id-4 div.sk-dashed-wrapped {border: 1px dashed gray;margin: 0 0.4em 0.5em 0.4em;box-sizing: border-box;padding-bottom: 0.4em;background-color: white;}#sk-container-id-4 div.sk-label label {font-family: monospace;font-weight: bold;display: inline-block;line-height: 1.2em;}#sk-container-id-4 div.sk-label-container {text-align: center;}#sk-container-id-4 div.sk-container {/* jupyter's `normalize.less` sets `[hidden] { display: none; }` but bootstrap.min.css set `[hidden] { display: none !important; }` so we also need the `!important` here to be able to override the default hidden behavior on the sphinx rendered scikit-learn.org. See: https://github.com/scikit-learn/scikit-learn/issues/21755 */display: inline-block !important;position: relative;}#sk-container-id-4 div.sk-text-repr-fallback {display: none;}</style><div id=\"sk-container-id-4\" class=\"sk-top-container\"><div class=\"sk-text-repr-fallback\"><pre>KNeighborsClassifier()</pre><b>In a Jupyter environment, please rerun this cell to show the HTML representation or trust the notebook. <br />On GitHub, the HTML representation is unable to render, please try loading this page with nbviewer.org.</b></div><div class=\"sk-container\" hidden><div class=\"sk-item\"><div class=\"sk-estimator sk-toggleable\"><input class=\"sk-toggleable__control sk-hidden--visually\" id=\"sk-estimator-id-4\" type=\"checkbox\" checked><label for=\"sk-estimator-id-4\" class=\"sk-toggleable__label sk-toggleable__label-arrow\">KNeighborsClassifier</label><div class=\"sk-toggleable__content\"><pre>KNeighborsClassifier()</pre></div></div></div></div></div>"
      ],
      "text/plain": [
       "KNeighborsClassifier()"
      ]
     },
     "execution_count": 138,
     "metadata": {},
     "output_type": "execute_result"
    }
   ],
   "source": [
    "# Entrenar el modelo de aprendizaje supervisado\n",
    "model = KNeighborsClassifier()\n",
    "model.fit(X, y)\n"
   ]
  },
  {
   "cell_type": "code",
   "execution_count": 139,
   "id": "3191a4b5",
   "metadata": {},
   "outputs": [
    {
     "name": "stdout",
     "output_type": "stream",
     "text": [
      "   Descripción ETIQUETA\n",
      "0          NaN      NaN\n",
      "1          NaN      NaN\n",
      "2          NaN      NaN\n",
      "3          NaN      NaN\n",
      "4          NaN      NaN\n",
      "5          NaN      NaN\n",
      "6          NaN      NaN\n",
      "7          NaN      NaN\n",
      "8          NaN      NaN\n",
      "9          NaN      NaN\n",
      "10         NaN      NaN\n",
      "11         NaN      NaN\n",
      "12         NaN      NaN\n",
      "13         NaN      NaN\n",
      "14         NaN      NaN\n",
      "15         NaN      NaN\n",
      "16         NaN      NaN\n",
      "17         NaN      NaN\n",
      "18         NaN      NaN\n",
      "19         NaN      NaN\n",
      "20         NaN      NaN\n",
      "21         NaN      NaN\n",
      "22         NaN      NaN\n",
      "23         NaN      NaN\n",
      "24         NaN      NaN\n",
      "25         NaN      NaN\n",
      "26         NaN      NaN\n",
      "27         NaN      NaN\n",
      "28         NaN      NaN\n"
     ]
    }
   ],
   "source": [
    "mask = df.isna()\n",
    "print(df[mask])"
   ]
  },
  {
   "cell_type": "code",
   "execution_count": 140,
   "id": "bcdc9d68",
   "metadata": {},
   "outputs": [
    {
     "name": "stdout",
     "output_type": "stream",
     "text": [
      "                                          Descripción              ETIQUETA\n",
      "0   COMISIONES BANCARIAS POR CHEQUES PAGADOS SEGÚN...                   COM\n",
      "1   TRANSF. 366281 PAGO 3% A LA NOMINA CORRESP. AL...             CANCELADO\n",
      "2   TRANSF. 366281 PAGO 3% A LA NOMINA CORRESP. AL...             CANCELADO\n",
      "3   TRANSF. 366281 PAGO 3% A LA NOMINA CORRESP. AL...               3 % NOM\n",
      "4   TRANSF. 379407 ENTERO ISR RETENCIONES SERVS PR...            ENTERO ISR\n",
      "5        TRANSF. 379496 ENTERO ISR SALARIOS DICIEMBRE            ENTERO ISR\n",
      "6   TRASPASO ENTRE CUENTAS PROPIAS, DE LA CTA. 679...             CANCELADO\n",
      "7          CH-143 ANTICIPO A CUENTA DE SUELDOS (1501)             ANTIC NOM\n",
      "8   TRANSF. 796476 GASTOS A COMPROBAR DEPTO. DE PR...                   GXC\n",
      "9   TRASPASO ENTRE CUENTAS PROPIAS, DE LA CTA. 679...             CANCELADO\n",
      "10  TRASPASO ENTRE CUENTAS PROPIAS, DE LA CTA. 682...      T6825 A LA T6795\n",
      "11  CH-146,168,169 NOMINA DE LA PRIMERA QNA DE ENE...                   NOM\n",
      "12  CH-145 PAGO DE NOMINA SEGURIDAD PUBLICA Y PROT...                   NOM\n",
      "13  CH-150 PAGO DE FINIQUITO PERSONAL DE SEG. PUB ...             FINIQUITO\n",
      "14  TRANSF. 575036 F/850B6 ADQ. DE DULCES PARA EVE...      EVENTOS / FESTIV\n",
      "15  TRANSF. 364042 F/6F5EC MANTENIMIENTO DE VEHICU...                MTTO V\n",
      "16  TRANSF. 233092 F/5A9D2 RENTA DE JUEGOS PARA EV...      EVENTOS / FESTIV\n",
      "17  TRANSF. 229319 F/bb25d1 ADQ. RADIADOR PARA VEH...                MTTO V\n",
      "18  TRANSF. 812034 F/D8D59 PAGO DE SEGURO DE VEHIC...              SEGURO V\n",
      "19  TRANSF. 002382 F/96116 ADQ. DE ADAPTADORES , C...                MTTO G\n",
      "20  TRANSF. 627025 PAGO DE SERVICIOS DE ENERGÍA EL...          ENERGIA ELEC\n",
      "21  TRANSF. 337781, 230019 F/98EEE7 ADQUISICIÓN DE...      EVENTOS / FESTIV\n",
      "22  TRANSF. 337781, 230019 F/98EEE7 ADQUISICIÓN DE...      EVENTOS / FESTIV\n",
      "23             CH-141 GASTOS A COMPROBAR (1501020101)                   GXC\n",
      "24  CH-142 F/CE7A0 ADQUISICIÓN DE LOTE DE JUGUETES...      EVENTOS / FESTIV\n",
      "25  CH-147 VIATICOS A LA CD. DE XALAPA, REGISTRO C...              VIATICOS\n",
      "26  CH-149 VIÁTICOS A LA CD. DE XALAPA, PARA ADQ. ...              VIATICOS\n",
      "27  TRANSF. 390043 F/086CC PAGO DE SERVICIO FUNERA...                APOYOS\n",
      "28  INGRESO POR CUARTO TRIMESTRE DEL EJERCICIO 202...  FONDO ESTABILIZACION\n"
     ]
    }
   ],
   "source": [
    "print (df)"
   ]
  },
  {
   "cell_type": "code",
   "execution_count": null,
   "id": "c9f3a24a",
   "metadata": {},
   "outputs": [],
   "source": []
  },
  {
   "cell_type": "code",
   "execution_count": 141,
   "id": "70fcdb0f",
   "metadata": {},
   "outputs": [],
   "source": [
    "import pandas as pd\n",
    "from sklearn.feature_extraction.text import CountVectorizer\n",
    "from sklearn.neighbors import KNeighborsClassifier\n",
    "\n",
    "# Asumiendo que tienes un objeto DataFrame llamado df\n",
    "# que contiene las descripciones y las etiquetas del mes de enero\n",
    "\n",
    "# Crea un objeto CountVectorizer para convertir las descripciones en vectores numéricos\n",
    "vectorizer = CountVectorizer()\n",
    "\n",
    "# Ajusta el vectorizador con las descripciones del conjunto de datos\n",
    "vectorizer.fit(df['Descripción'])\n",
    "\n",
    "# Transforma las descripciones en vectores numéricos\n",
    "X_descripciones = vectorizer.transform(df['Descripción'])\n",
    "\n",
    "# Convierte los vectores numéricos en un DataFrame\n",
    "df_descripciones = pd.DataFrame(X_descripciones.toarray(), columns=vectorizer.get_feature_names_out())\n",
    "\n",
    "# Agrega el DataFrame de descripciones al conjunto de datos original\n",
    "df_final = pd.concat([df, df_descripciones], axis=1)\n",
    "\n"
   ]
  },
  {
   "cell_type": "code",
   "execution_count": 142,
   "id": "49b7366b",
   "metadata": {},
   "outputs": [],
   "source": [
    "# Elimina la columna original con las descripciones\n",
    "df_final = df_final.drop('Descripción', axis=1)"
   ]
  },
  {
   "cell_type": "code",
   "execution_count": 143,
   "id": "f16cf961",
   "metadata": {},
   "outputs": [],
   "source": [
    "# Separar las características y las etiquetas\n",
    "X = df_final.drop('ETIQUETA', axis=1)\n",
    "y = df_final['ETIQUETA']\n"
   ]
  },
  {
   "cell_type": "code",
   "execution_count": 144,
   "id": "57a90ab7",
   "metadata": {},
   "outputs": [
    {
     "data": {
      "text/html": [
       "<style>#sk-container-id-5 {color: black;background-color: white;}#sk-container-id-5 pre{padding: 0;}#sk-container-id-5 div.sk-toggleable {background-color: white;}#sk-container-id-5 label.sk-toggleable__label {cursor: pointer;display: block;width: 100%;margin-bottom: 0;padding: 0.3em;box-sizing: border-box;text-align: center;}#sk-container-id-5 label.sk-toggleable__label-arrow:before {content: \"▸\";float: left;margin-right: 0.25em;color: #696969;}#sk-container-id-5 label.sk-toggleable__label-arrow:hover:before {color: black;}#sk-container-id-5 div.sk-estimator:hover label.sk-toggleable__label-arrow:before {color: black;}#sk-container-id-5 div.sk-toggleable__content {max-height: 0;max-width: 0;overflow: hidden;text-align: left;background-color: #f0f8ff;}#sk-container-id-5 div.sk-toggleable__content pre {margin: 0.2em;color: black;border-radius: 0.25em;background-color: #f0f8ff;}#sk-container-id-5 input.sk-toggleable__control:checked~div.sk-toggleable__content {max-height: 200px;max-width: 100%;overflow: auto;}#sk-container-id-5 input.sk-toggleable__control:checked~label.sk-toggleable__label-arrow:before {content: \"▾\";}#sk-container-id-5 div.sk-estimator input.sk-toggleable__control:checked~label.sk-toggleable__label {background-color: #d4ebff;}#sk-container-id-5 div.sk-label input.sk-toggleable__control:checked~label.sk-toggleable__label {background-color: #d4ebff;}#sk-container-id-5 input.sk-hidden--visually {border: 0;clip: rect(1px 1px 1px 1px);clip: rect(1px, 1px, 1px, 1px);height: 1px;margin: -1px;overflow: hidden;padding: 0;position: absolute;width: 1px;}#sk-container-id-5 div.sk-estimator {font-family: monospace;background-color: #f0f8ff;border: 1px dotted black;border-radius: 0.25em;box-sizing: border-box;margin-bottom: 0.5em;}#sk-container-id-5 div.sk-estimator:hover {background-color: #d4ebff;}#sk-container-id-5 div.sk-parallel-item::after {content: \"\";width: 100%;border-bottom: 1px solid gray;flex-grow: 1;}#sk-container-id-5 div.sk-label:hover label.sk-toggleable__label {background-color: #d4ebff;}#sk-container-id-5 div.sk-serial::before {content: \"\";position: absolute;border-left: 1px solid gray;box-sizing: border-box;top: 0;bottom: 0;left: 50%;z-index: 0;}#sk-container-id-5 div.sk-serial {display: flex;flex-direction: column;align-items: center;background-color: white;padding-right: 0.2em;padding-left: 0.2em;position: relative;}#sk-container-id-5 div.sk-item {position: relative;z-index: 1;}#sk-container-id-5 div.sk-parallel {display: flex;align-items: stretch;justify-content: center;background-color: white;position: relative;}#sk-container-id-5 div.sk-item::before, #sk-container-id-5 div.sk-parallel-item::before {content: \"\";position: absolute;border-left: 1px solid gray;box-sizing: border-box;top: 0;bottom: 0;left: 50%;z-index: -1;}#sk-container-id-5 div.sk-parallel-item {display: flex;flex-direction: column;z-index: 1;position: relative;background-color: white;}#sk-container-id-5 div.sk-parallel-item:first-child::after {align-self: flex-end;width: 50%;}#sk-container-id-5 div.sk-parallel-item:last-child::after {align-self: flex-start;width: 50%;}#sk-container-id-5 div.sk-parallel-item:only-child::after {width: 0;}#sk-container-id-5 div.sk-dashed-wrapped {border: 1px dashed gray;margin: 0 0.4em 0.5em 0.4em;box-sizing: border-box;padding-bottom: 0.4em;background-color: white;}#sk-container-id-5 div.sk-label label {font-family: monospace;font-weight: bold;display: inline-block;line-height: 1.2em;}#sk-container-id-5 div.sk-label-container {text-align: center;}#sk-container-id-5 div.sk-container {/* jupyter's `normalize.less` sets `[hidden] { display: none; }` but bootstrap.min.css set `[hidden] { display: none !important; }` so we also need the `!important` here to be able to override the default hidden behavior on the sphinx rendered scikit-learn.org. See: https://github.com/scikit-learn/scikit-learn/issues/21755 */display: inline-block !important;position: relative;}#sk-container-id-5 div.sk-text-repr-fallback {display: none;}</style><div id=\"sk-container-id-5\" class=\"sk-top-container\"><div class=\"sk-text-repr-fallback\"><pre>KNeighborsClassifier()</pre><b>In a Jupyter environment, please rerun this cell to show the HTML representation or trust the notebook. <br />On GitHub, the HTML representation is unable to render, please try loading this page with nbviewer.org.</b></div><div class=\"sk-container\" hidden><div class=\"sk-item\"><div class=\"sk-estimator sk-toggleable\"><input class=\"sk-toggleable__control sk-hidden--visually\" id=\"sk-estimator-id-5\" type=\"checkbox\" checked><label for=\"sk-estimator-id-5\" class=\"sk-toggleable__label sk-toggleable__label-arrow\">KNeighborsClassifier</label><div class=\"sk-toggleable__content\"><pre>KNeighborsClassifier()</pre></div></div></div></div></div>"
      ],
      "text/plain": [
       "KNeighborsClassifier()"
      ]
     },
     "execution_count": 144,
     "metadata": {},
     "output_type": "execute_result"
    }
   ],
   "source": [
    "# Entrenar el modelo de aprendizaje supervisado\n",
    "model = KNeighborsClassifier()\n",
    "model.fit(X, y)"
   ]
  },
  {
   "cell_type": "code",
   "execution_count": 177,
   "id": "d8d9cb64",
   "metadata": {},
   "outputs": [],
   "source": [
    "# Leer la tabla del mes siguiente\n",
    "df_siguiente = pd.read_excel(r\"C:\\Users\\lenovodna\\Desktop\\1.1.1.2.02.02 0118066795 Participaciones 2022 (1).xlsx\", sheet_name='FEB')"
   ]
  },
  {
   "cell_type": "code",
   "execution_count": 178,
   "id": "c5693b63",
   "metadata": {},
   "outputs": [],
   "source": [
    "# Procesar las descripciones del mes siguiente de la misma manera que se hizo para el mes de enero\n",
    "X_descripciones_siguiente = vectorizer.transform(df_siguiente['Descripción'])\n",
    "df_descripciones_siguiente = pd.DataFrame(X_descripciones_siguiente.toarray(), columns=vectorizer.get_feature_names_out())\n",
    "df_siguiente_final = pd.concat([df_siguiente, df_descripciones_siguiente], axis=1)\n",
    "df_siguiente_final = df_siguiente_final.drop('Descripción', axis=1)"
   ]
  },
  {
   "cell_type": "code",
   "execution_count": 182,
   "id": "6ebe74a6",
   "metadata": {},
   "outputs": [],
   "source": [
    "# Asignar las etiquetas correctas para el mes siguiente\n",
    "etiquetas = model.predict(df_siguiente_final)\n"
   ]
  },
  {
   "cell_type": "code",
   "execution_count": 183,
   "id": "551979a8",
   "metadata": {},
   "outputs": [],
   "source": [
    "# Agregar las etiquetas como una nueva columna en la tabla del mes siguiente\n",
    "df_siguiente['ETIQUETA'] = etiquetas"
   ]
  },
  {
   "cell_type": "code",
   "execution_count": 185,
   "id": "7b60786b",
   "metadata": {},
   "outputs": [],
   "source": [
    "# Guardar la tabla actualizada en el archivo de Excel\n",
    "with pd.ExcelWriter(r\"C:\\Users\\lenovodna\\Desktop\\GONGO.xlsx\", mode='a') as writer:\n",
    "    df_siguiente.to_excel(writer, sheet_name='FEB2')"
   ]
  },
  {
   "cell_type": "code",
   "execution_count": 186,
   "id": "e4420436",
   "metadata": {},
   "outputs": [
    {
     "name": "stdout",
     "output_type": "stream",
     "text": [
      "                                         Descripción   ETIQUETA\n",
      "0  REGISTRO DE INTERESES SEGÚN EDO. CTA. 6795 COR...  CANCELADO\n",
      "1  COMISIONES BANCARIAS POR CHEQUES LIBRADOS Y PA...  ANTIC NOM\n"
     ]
    }
   ],
   "source": [
    "print (df_siguiente)"
   ]
  }
 ],
 "metadata": {
  "kernelspec": {
   "display_name": "Python 3 (ipykernel)",
   "language": "python",
   "name": "python3"
  },
  "language_info": {
   "codemirror_mode": {
    "name": "ipython",
    "version": 3
   },
   "file_extension": ".py",
   "mimetype": "text/x-python",
   "name": "python",
   "nbconvert_exporter": "python",
   "pygments_lexer": "ipython3",
   "version": "3.9.7"
  }
 },
 "nbformat": 4,
 "nbformat_minor": 5
}
